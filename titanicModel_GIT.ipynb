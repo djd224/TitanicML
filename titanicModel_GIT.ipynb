{
 "cells": [
  {
   "cell_type": "code",
   "execution_count": 1,
   "id": "eb391493",
   "metadata": {},
   "outputs": [
    {
     "data": {
      "text/html": [
       "<div>\n",
       "<style scoped>\n",
       "    .dataframe tbody tr th:only-of-type {\n",
       "        vertical-align: middle;\n",
       "    }\n",
       "\n",
       "    .dataframe tbody tr th {\n",
       "        vertical-align: top;\n",
       "    }\n",
       "\n",
       "    .dataframe thead th {\n",
       "        text-align: right;\n",
       "    }\n",
       "</style>\n",
       "<table border=\"1\" class=\"dataframe\">\n",
       "  <thead>\n",
       "    <tr style=\"text-align: right;\">\n",
       "      <th></th>\n",
       "      <th>PassengerId</th>\n",
       "      <th>Survived</th>\n",
       "      <th>Pclass</th>\n",
       "      <th>Name</th>\n",
       "      <th>Sex</th>\n",
       "      <th>Age</th>\n",
       "      <th>SibSp</th>\n",
       "      <th>Parch</th>\n",
       "      <th>Ticket</th>\n",
       "      <th>Fare</th>\n",
       "      <th>Cabin</th>\n",
       "      <th>Embarked</th>\n",
       "    </tr>\n",
       "  </thead>\n",
       "  <tbody>\n",
       "    <tr>\n",
       "      <th>0</th>\n",
       "      <td>1</td>\n",
       "      <td>0</td>\n",
       "      <td>3</td>\n",
       "      <td>Braund, Mr. Owen Harris</td>\n",
       "      <td>male</td>\n",
       "      <td>22.0</td>\n",
       "      <td>1</td>\n",
       "      <td>0</td>\n",
       "      <td>A/5 21171</td>\n",
       "      <td>7.25</td>\n",
       "      <td>NaN</td>\n",
       "      <td>S</td>\n",
       "    </tr>\n",
       "  </tbody>\n",
       "</table>\n",
       "</div>"
      ],
      "text/plain": [
       "   PassengerId  Survived  Pclass                     Name   Sex   Age  SibSp  \\\n",
       "0            1         0       3  Braund, Mr. Owen Harris  male  22.0      1   \n",
       "\n",
       "   Parch     Ticket  Fare Cabin Embarked  \n",
       "0      0  A/5 21171  7.25   NaN        S  "
      ]
     },
     "execution_count": 1,
     "metadata": {},
     "output_type": "execute_result"
    }
   ],
   "source": [
    "import torch\n",
    "import numpy as np\n",
    "import pandas as pd\n",
    "import matplotlib.pyplot as plt\n",
    "from sklearn import preprocessing\n",
    "\n",
    "trainRaw = pd.read_csv(\"train.csv\")\n",
    "evalRaw = pd.read_csv(\"test.csv\")\n",
    "\n",
    " # trainRaw.head(1)"
   ]
  },
  {
   "cell_type": "code",
   "execution_count": 2,
   "id": "ab1a82b6",
   "metadata": {},
   "outputs": [
    {
     "name": "stdout",
     "output_type": "stream",
     "text": [
      "   Pclass       Age  SibSp  Parch      Fare  Sex_female  Sex_male  Embarked_C  \\\n",
      "0     1.0  0.271174  0.125    0.0  0.014151         0.0       1.0         0.0   \n",
      "\n",
      "   Embarked_Q  Embarked_S  \n",
      "0         0.0         1.0  \n",
      "tensor([1.0000, 0.3591, 0.0000, 0.0000, 0.0154, 0.0000, 1.0000, 0.0000, 0.0000,\n",
      "        1.0000])\n"
     ]
    }
   ],
   "source": [
    "from sklearn.model_selection import train_test_split\n",
    "\n",
    "def normalizer(data): #scale values like the cost of a ticket to create more stable predictions\n",
    "    \n",
    "    x_normal = preprocessing.MinMaxScaler().fit_transform(data.values)\n",
    "    \n",
    "    return pd.DataFrame(x_normal, columns=data.columns)\n",
    "\n",
    "def clean(data): #drops irrelevant info, converts categorical values to numerical, fills NaN, calls normalizer\n",
    "    \n",
    "    data = data.drop([\"PassengerId\", \"Name\", \"Ticket\", \"Cabin\"], axis=1)\n",
    "    data = pd.get_dummies(data, columns=[\"Sex\", \"Embarked\"])\n",
    "    \n",
    "    \n",
    "    data.fillna(data.mean(), inplace=True)\n",
    "    \n",
    "    \n",
    " #   cols = [\"Age\", \"SibSp\", \"Parch\", \"Fare\"]\n",
    " #   for col in cols:\n",
    " #       data[col].fillna(data[col].mean(), inplace=True)\n",
    "    \n",
    "    \n",
    "    if 'Survived' in data.columns:\n",
    "        data_x = normalizer(data.drop([\"Survived\"], axis=1))\n",
    "        data_y = data[\"Survived\"]\n",
    "        return data_x, data_y\n",
    "    else:\n",
    "        return normalizer(data)\n",
    "\n",
    "\n",
    " # cols = [\"Sex\", \"Embarked\"]\n",
    "    \n",
    " # for col in cols:\n",
    " #   trainData[col] = pre.fit_transform(trainData[col])\n",
    " #   testData[col] = pre.transform(testData[col])\n",
    " #   print(pre.classes_)\n",
    "\n",
    "\n",
    "t_x, t_y = clean(trainRaw)\n",
    "eval_x = clean(evalRaw)\n",
    "\n",
    "trn_X, tst_X, trn_y, tst_y = train_test_split(t_x, t_y, test_size = 0.2) #splits data into train(80%) and test(20%)\n",
    "\n",
    "train_X = torch.Tensor(trn_X.to_numpy())\n",
    "train_y = torch.Tensor(trn_y.to_numpy()) #.type(torch.LongTensor)\n",
    "test_X = torch.Tensor(tst_X.to_numpy())\n",
    "test_y = torch.Tensor(tst_y.to_numpy()) #.type(torch.LongTensor)\n",
    "\n",
    "eval_X = torch.Tensor(eval_x.to_numpy())\n",
    "\n",
    " # print(t_x.head(1))\n",
    " # print(train_X[1])"
   ]
  },
  {
   "cell_type": "code",
   "execution_count": 3,
   "id": "67676851",
   "metadata": {},
   "outputs": [
    {
     "name": "stdout",
     "output_type": "stream",
     "text": [
      "Network(\n",
      "  (lay1): Linear(in_features=10, out_features=100, bias=True)\n",
      "  (lay2): Linear(in_features=100, out_features=1, bias=True)\n",
      ")\n"
     ]
    }
   ],
   "source": [
    "import torch.nn as nn\n",
    "import torch.nn.functional as F\n",
    "\n",
    "class Network(torch.nn.Module):\n",
    "\n",
    "    def __init__(self):\n",
    "        super(Network, self).__init__()\n",
    "        \n",
    "        self.lay1 = nn.Linear(10, 100)\n",
    "        self.lay2 = nn.Linear(100, 1)\n",
    "\n",
    "    def forward(self, x):\n",
    "        x = self.lay1(x)\n",
    "        x = F.relu(x) \n",
    "        x = F.dropout(x, p=0.1)\n",
    "        x = self.lay2(x)\n",
    "        x = torch.sigmoid(x)\n",
    "        \n",
    "        return x\n",
    "    \n",
    "model = Network()\n",
    "\n",
    " # print(model)\n",
    " # len(model(train_X))"
   ]
  },
  {
   "cell_type": "code",
   "execution_count": 4,
   "id": "639a3864",
   "metadata": {},
   "outputs": [
    {
     "name": "stdout",
     "output_type": "stream",
     "text": [
      "Epoch: 0 | Loss: 0.69776, Accuracy: 50.42% | Test loss: 0.70157, Test acc: 54.19%\n",
      "Epoch: 10 | Loss: 0.64558, Accuracy: 62.78% | Test loss: 0.65823, Test acc: 56.98%\n",
      "Epoch: 20 | Loss: 0.61993, Accuracy: 62.78% | Test loss: 0.63286, Test acc: 56.98%\n",
      "Epoch: 30 | Loss: 0.60128, Accuracy: 63.06% | Test loss: 0.61132, Test acc: 56.98%\n",
      "Epoch: 40 | Loss: 0.58794, Accuracy: 63.90% | Test loss: 0.59676, Test acc: 58.66%\n",
      "Epoch: 50 | Loss: 0.57477, Accuracy: 68.68% | Test loss: 0.56895, Test acc: 66.48%\n",
      "Epoch: 60 | Loss: 0.56221, Accuracy: 73.31% | Test loss: 0.56166, Test acc: 70.39%\n",
      "Epoch: 70 | Loss: 0.54833, Accuracy: 76.54% | Test loss: 0.54376, Test acc: 79.33%\n",
      "Epoch: 80 | Loss: 0.54400, Accuracy: 78.51% | Test loss: 0.52488, Test acc: 84.36%\n",
      "Epoch: 90 | Loss: 0.53636, Accuracy: 79.63% | Test loss: 0.52139, Test acc: 82.12%\n",
      "Epoch: 100 | Loss: 0.52702, Accuracy: 78.79% | Test loss: 0.50488, Test acc: 82.12%\n",
      "Epoch: 110 | Loss: 0.52051, Accuracy: 79.07% | Test loss: 0.49736, Test acc: 83.24%\n"
     ]
    }
   ],
   "source": [
    "from sklearn.utils import shuffle\n",
    "from torch.autograd import Variable\n",
    "\n",
    "    \n",
    "optimizer = torch.optim.SGD(model.parameters(), lr = 0.05)\n",
    "loss_fn = nn.BCELoss()\n",
    " # loss_fn = nn.BCEWithLogitsLoss()\n",
    "\n",
    "def accuracy_fn(y_true, y_prediction):\n",
    "    correct = torch.eq(y_true, y_prediction).sum().item()\n",
    "    acc = (correct / len(y_prediction)) * 100\n",
    "    return acc\n",
    "    \n",
    "    \n",
    "epochs = 115\n",
    "\n",
    "train_X, train_y = shuffle(train_X, train_y)\n",
    " # train_X = Variable(torch.FloatTensor(train_X))\n",
    "\n",
    " # train_losses, test_losses = [0] * epochs, [0] * epochs\n",
    " # accuracy = [0] * epochs\n",
    "\n",
    "\n",
    " # print(torch.Tensor.size(model(train_X)))\n",
    "\n",
    " # x = model(train_X).squeeze()\n",
    " # print(torch.Tensor.size(x))\n",
    "\n",
    "\n",
    "for e in range(epochs):\n",
    "    optimizer.zero_grad()\n",
    "    y_pred_raw = model(train_X).squeeze()\n",
    "    y_pred = torch.round((y_pred_raw))\n",
    "    loss = loss_fn(y_pred_raw, train_y)\n",
    "    loss.backward()\n",
    "    optimizer.step()\n",
    "    #train_losses[e] = loss.item()\n",
    "    acc = accuracy_fn(train_y, y_pred)\n",
    "\n",
    "    model.eval()\n",
    "    with torch.no_grad():\n",
    "        y_test_raw = model(test_X).squeeze()\n",
    "        y_test = torch.round(y_test_raw)\n",
    "        test_loss = loss_fn(y_test_raw, test_y)\n",
    "        #test_losses[e] = test_loss.item()\n",
    "        test_acc = accuracy_fn(test_y, y_test)\n",
    "        \n",
    "    model.train()\n",
    "    \n",
    "    if e % 10 == 0:\n",
    "        print(f\"Epoch: {e} | Loss: {loss:.5f}, Accuracy: {acc:.2f}% | Test loss: {test_loss:.5f}, Test acc: {test_acc:.2f}%\")\n",
    "        #print(f\"Epoch: {e} | Raw Prediction: {y_pred_raw} | Transform: {y_pred} | Actual: {train_y}\")"
   ]
  },
  {
   "cell_type": "code",
   "execution_count": 5,
   "id": "69e6bb93",
   "metadata": {},
   "outputs": [
    {
     "name": "stdout",
     "output_type": "stream",
     "text": [
      "tensor(1.)\n",
      "tensor([0.5000, 0.2209, 0.0000, 0.1667, 0.0449, 1.0000, 0.0000, 0.0000, 0.0000,\n",
      "        1.0000])\n",
      "tensor([1.], grad_fn=<RoundBackward0>)\n"
     ]
    }
   ],
   "source": [
    "#print(test_y[100])\n",
    "#print(test_X[100])\n",
    "\n",
    "#print(torch.round(model(test_X[10].squeeze())))"
   ]
  },
  {
   "cell_type": "code",
   "execution_count": 7,
   "id": "3e4d8117",
   "metadata": {},
   "outputs": [
    {
     "name": "stdout",
     "output_type": "stream",
     "text": [
      "torch.Size([418])\n"
     ]
    }
   ],
   "source": [
    "with torch.no_grad():\n",
    "    results_raw = model(eval_X).squeeze()\n",
    "    results = torch.round(results_raw)\n",
    "    \n",
    " # print(results.size())"
   ]
  },
  {
   "cell_type": "code",
   "execution_count": 16,
   "id": "019afd75",
   "metadata": {},
   "outputs": [
    {
     "data": {
      "text/html": [
       "<div>\n",
       "<style scoped>\n",
       "    .dataframe tbody tr th:only-of-type {\n",
       "        vertical-align: middle;\n",
       "    }\n",
       "\n",
       "    .dataframe tbody tr th {\n",
       "        vertical-align: top;\n",
       "    }\n",
       "\n",
       "    .dataframe thead th {\n",
       "        text-align: right;\n",
       "    }\n",
       "</style>\n",
       "<table border=\"1\" class=\"dataframe\">\n",
       "  <thead>\n",
       "    <tr style=\"text-align: right;\">\n",
       "      <th></th>\n",
       "      <th>PassengerID</th>\n",
       "      <th>Survived</th>\n",
       "    </tr>\n",
       "  </thead>\n",
       "  <tbody>\n",
       "    <tr>\n",
       "      <th>count</th>\n",
       "      <td>418.000000</td>\n",
       "      <td>418.000000</td>\n",
       "    </tr>\n",
       "    <tr>\n",
       "      <th>mean</th>\n",
       "      <td>1100.500000</td>\n",
       "      <td>0.339713</td>\n",
       "    </tr>\n",
       "    <tr>\n",
       "      <th>std</th>\n",
       "      <td>120.810458</td>\n",
       "      <td>0.474179</td>\n",
       "    </tr>\n",
       "    <tr>\n",
       "      <th>min</th>\n",
       "      <td>892.000000</td>\n",
       "      <td>0.000000</td>\n",
       "    </tr>\n",
       "    <tr>\n",
       "      <th>25%</th>\n",
       "      <td>996.250000</td>\n",
       "      <td>0.000000</td>\n",
       "    </tr>\n",
       "    <tr>\n",
       "      <th>50%</th>\n",
       "      <td>1100.500000</td>\n",
       "      <td>0.000000</td>\n",
       "    </tr>\n",
       "    <tr>\n",
       "      <th>75%</th>\n",
       "      <td>1204.750000</td>\n",
       "      <td>1.000000</td>\n",
       "    </tr>\n",
       "    <tr>\n",
       "      <th>max</th>\n",
       "      <td>1309.000000</td>\n",
       "      <td>1.000000</td>\n",
       "    </tr>\n",
       "  </tbody>\n",
       "</table>\n",
       "</div>"
      ],
      "text/plain": [
       "       PassengerID    Survived\n",
       "count   418.000000  418.000000\n",
       "mean   1100.500000    0.339713\n",
       "std     120.810458    0.474179\n",
       "min     892.000000    0.000000\n",
       "25%     996.250000    0.000000\n",
       "50%    1100.500000    0.000000\n",
       "75%    1204.750000    1.000000\n",
       "max    1309.000000    1.000000"
      ]
     },
     "execution_count": 16,
     "metadata": {},
     "output_type": "execute_result"
    }
   ],
   "source": [
    "submission = pd.DataFrame({\"PassengerID\" : evalRaw[\"PassengerId\"], \n",
    "                           \"Survived\" : results})\n",
    "\n",
    "submission.head()\n",
    "submission.describe()"
   ]
  },
  {
   "cell_type": "code",
   "execution_count": 18,
   "id": "0e419fc9",
   "metadata": {},
   "outputs": [],
   "source": [
    "submission.to_csv('titanicML_submission.csv', index=False)"
   ]
  }
 ],
 "metadata": {
  "kernelspec": {
   "display_name": "Python 3 (ipykernel)",
   "language": "python",
   "name": "python3"
  },
  "language_info": {
   "codemirror_mode": {
    "name": "ipython",
    "version": 3
   },
   "file_extension": ".py",
   "mimetype": "text/x-python",
   "name": "python",
   "nbconvert_exporter": "python",
   "pygments_lexer": "ipython3",
   "version": "3.9.12"
  }
 },
 "nbformat": 4,
 "nbformat_minor": 5
}
